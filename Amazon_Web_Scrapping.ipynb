{
  "cells": [
    {
      "cell_type": "markdown",
      "metadata": {
        "id": "view-in-github",
        "colab_type": "text"
      },
      "source": [
        "<a href=\"https://colab.research.google.com/github/Channaraya-Jayashankar/WebScrappingProject/blob/main/Amazon_Web_Scrapping.ipynb\" target=\"_parent\"><img src=\"https://colab.research.google.com/assets/colab-badge.svg\" alt=\"Open In Colab\"/></a>"
      ]
    },
    {
      "cell_type": "code",
      "execution_count": 19,
      "metadata": {
        "id": "nGc4Q9F5YLEQ"
      },
      "outputs": [],
      "source": [
        "# import libraries\n",
        "\n",
        "from bs4 import BeautifulSoup\n",
        "import requests\n",
        "import time\n",
        "import datetime\n",
        "\n",
        "import smtplib"
      ]
    },
    {
      "cell_type": "code",
      "execution_count": 21,
      "metadata": {
        "colab": {
          "base_uri": "https://localhost:8080/"
        },
        "id": "JlvjDwe9vdtG",
        "outputId": "ace0613b-009f-45c7-a438-c9ea66bc8743"
      },
      "outputs": [
        {
          "output_type": "stream",
          "name": "stdout",
          "text": [
            "Title: \n",
            "                   Funny Got Data MIS Data Systems Business Analyst T-Shirt\n",
            "                  \n",
            "Price: About this item\n"
          ]
        }
      ],
      "source": [
        "URL = 'https://www.amazon.com/Funny-Data-Systems-Business-Analyst/dp/B07FNW9FGJ/ref=sr_1_3?dchild=1&keywords=data%2Banalyst%2Btshirt&qid=1626655184&sr=8-3&customId=B0752XJYNL&th=1%27%20headers%20=%20{%22User-Agent%22:%20%22Mozilla/5.0%20(Macintosh&%20Intel%20Mac%20OS%20X%2010_15_7)%20AppleWebKit/537.36%20(KHTML,%20like%20Gecko)%20Chrome/127.0.0.0%20Safari/537.36%22,%20%22Accept-Encoding%22:%22gzip,%20deflate%22,%20%22Accept%22:%22text/html,application/xhtml+xml,application/xml&q=0.9,/&q=0.8%22,%20%22DNT%22:%221%22,%22Connection%22:%22close%22,%20%22Upgrade-Insecure-Requests%22:%221%22#:~:text=%24-,16,99,-Learn%20more'\n",
        "\n",
        "headers = {\"User-Agent\": \"Mozilla/5.0 (Macintosh; Intel Mac OS X 10_15_7) AppleWebKit/537.36 (KHTML, like Gecko) Chrome/127.0.0.0 Safari/537.36\", \"Accept-Encoding\":\"gzip, deflate\", \"Accept\":\"text/html,application/xhtml+xml,application/xml;q=0.9,/;q=0.8\", \"DNT\":\"1\",\"Connection\":\"close\", \"Upgrade-Insecure-Requests\":\"1\"}\n",
        "\n",
        "page = requests.get(URL, headers=headers)\n",
        "\n",
        "soup1 = BeautifulSoup(page.content, \"html.parser\")\n",
        "\n",
        "soup2 = BeautifulSoup(soup1.prettify(), \"html.parser\")\n",
        "\n",
        "title = soup2.find(id='productTitle').get_text()\n",
        "\n",
        "# Find the price using the correct class\n",
        "price = soup2.find('span', {'class': 'aok-offscreen'})\n",
        "price_text = price.get_text(strip=True) if price else 'Price not found'\n",
        "\n",
        "print(f\"Title: {title}\")\n",
        "print(f\"Price: {price_text}\")"
      ]
    },
    {
      "cell_type": "code",
      "execution_count": 22,
      "metadata": {
        "colab": {
          "base_uri": "https://localhost:8080/"
        },
        "id": "t2Imh7gAYgrm",
        "outputId": "cefa241c-ad08-4900-f4da-35834e288a1a"
      },
      "outputs": [
        {
          "output_type": "stream",
          "name": "stdout",
          "text": [
            "Funny Got Data MIS Data Systems Business Analyst T-Shirt\n",
            "bout this item\n"
          ]
        }
      ],
      "source": [
        "# Clean up the data a little bit\n",
        "\n",
        "price = price_text.strip()[1:] # Use price_text variable instead of price\n",
        "title = title.strip()\n",
        "\n",
        "print(title)\n",
        "print(price)"
      ]
    },
    {
      "cell_type": "code",
      "execution_count": 23,
      "metadata": {
        "colab": {
          "base_uri": "https://localhost:8080/"
        },
        "id": "II3ESXK1wlPD",
        "outputId": "525af096-eec2-4b9c-d485-179a32d59329"
      },
      "outputs": [
        {
          "output_type": "stream",
          "name": "stdout",
          "text": [
            "2024-09-18\n"
          ]
        }
      ],
      "source": [
        "# Create a Timestamp for your output to track when data was collected\n",
        "\n",
        "import datetime\n",
        "\n",
        "today = datetime.date.today()\n",
        "\n",
        "print(today)"
      ]
    },
    {
      "cell_type": "code",
      "execution_count": 24,
      "metadata": {
        "id": "Xcf4zQgaw1-y"
      },
      "outputs": [],
      "source": [
        "# Create CSV and write headers and data into the file\n",
        "\n",
        "import csv\n",
        "\n",
        "header = ['Title', 'Price', 'Date']\n",
        "data = [title, price, today]\n",
        "\n",
        "\n",
        "with open('AmazonWebScraperDataset.csv', 'w', newline='', encoding='UTF8') as f:\n",
        "    writer = csv.writer(f)\n",
        "    writer.writerow(header)\n",
        "    writer.writerow(data)\n"
      ]
    },
    {
      "cell_type": "code",
      "execution_count": 25,
      "metadata": {
        "colab": {
          "base_uri": "https://localhost:8080/"
        },
        "id": "mWOE6XY7w6DM",
        "outputId": "0df90c07-a72e-4c94-b54d-1d4c487b1c67"
      },
      "outputs": [
        {
          "output_type": "stream",
          "name": "stdout",
          "text": [
            "                                               Title           Price  \\\n",
            "0  Funny Got Data MIS Data Systems Business Analy...  bout this item   \n",
            "\n",
            "         Date  \n",
            "0  2024-09-18  \n"
          ]
        }
      ],
      "source": [
        "import pandas as pd\n",
        "\n",
        "df = pd.read_csv('AmazonWebScraperDataset.csv')\n",
        "\n",
        "print(df)"
      ]
    },
    {
      "cell_type": "code",
      "execution_count": 26,
      "metadata": {
        "id": "MSpfcUALw9Aa"
      },
      "outputs": [],
      "source": [
        "#Now we are appending data to the csv\n",
        "\n",
        "with open('AmazonWebScraperDataset.csv', 'a+', newline='', encoding='UTF8') as f:\n",
        "    writer = csv.writer(f)\n",
        "    writer.writerow(data)"
      ]
    },
    {
      "cell_type": "code",
      "execution_count": 39,
      "metadata": {
        "colab": {
          "base_uri": "https://localhost:8080/"
        },
        "id": "mOXnjh6c11Os",
        "outputId": "b8902f3d-4847-4973-c546-4fbc0ac5cc10"
      },
      "outputs": [
        {
          "output_type": "stream",
          "name": "stdout",
          "text": [
            "Title: \n",
            "                    Funny Got Data MIS Data Systems Business Analyst T-Shirt\n",
            "                   \n",
            "Price: $16.99\n",
            "Funny Got Data MIS Data Systems Business Analyst T-Shirt\n",
            "16.99\n",
            "2024-09-18\n",
            "                                               Title  Price        Date\n",
            "0  Funny Got Data MIS Data Systems Business Analy...  16.99  2024-09-18\n",
            "2024-09-18\n"
          ]
        }
      ],
      "source": [
        "#Combine all of the above code into one function\n",
        "\n",
        "from bs4 import BeautifulSoup\n",
        "import requests\n",
        "import time\n",
        "import datetime\n",
        "import smtplib\n",
        "import csv\n",
        "import pandas as pd\n",
        "\n",
        "def check_price():\n",
        "  URL = 'https://www.amazon.com/Funny-Data-Systems-Business-Analyst/dp/B07FNW9FGJ/ref=sr_1_3?dchild=1&keywords=data%2Banalyst%2Btshirt&qid=1626655184&sr=8-3&customId=B0752XJYNL&th=1%27%20headers%20=%20{%22User-Agent%22:%20%22Mozilla/5.0%20(Macintosh&%20Intel%20Mac%20OS%20X%2010_15_7)%20AppleWebKit/537.36%20(KHTML,%20like%20Gecko)%20Chrome/127.0.0.0%20Safari/537.36%22,%20%22Accept-Encoding%22:%22gzip,%20deflate%22,%20%22Accept%22:%22text/html,application/xhtml+xml,application/xml&q=0.9,/&q=0.8%22,%20%22DNT%22:%221%22,%22Connection%22:%22close%22,%20%22Upgrade-Insecure-Requests%22:%221%22#:~:text=%24-,16,99,-Learn%20more'\n",
        "\n",
        "  headers = {\"User-Agent\": \"Mozilla/5.0 (Macintosh; Intel Mac OS X 10_15_7) AppleWebKit/537.36 (KHTML, like Gecko) Chrome/127.0.0.0 Safari/537.36\", \"Accept-Encoding\":\"gzip, deflate\", \"Accept\":\"text/html,application/xhtml+xml,application/xml;q=0.9,/;q=0.8\", \"DNT\":\"1\",\"Connection\":\"close\", \"Upgrade-Insecure-Requests\":\"1\"}\n",
        "\n",
        "  page = requests.get(URL, headers=headers)\n",
        "\n",
        "  soup1 = BeautifulSoup(page.content, \"html.parser\")\n",
        "\n",
        "  soup2 = BeautifulSoup(soup1.prettify(), \"html.parser\")\n",
        "\n",
        "  title = soup2.find(id='productTitle').get_text()\n",
        "\n",
        "  # Find the price using the correct class\n",
        "  price = soup2.find('span', {'class': 'aok-offscreen'})\n",
        "  price_text = price.get_text(strip=True) if price else 'Price not found'\n",
        "\n",
        "  print(f\"Title: {title}\")\n",
        "  print(f\"Price: {price_text}\")\n",
        "  # Clean up the data a little bit\n",
        "\n",
        "  price = price_text.strip()[1:] # Use price_text variable instead of price\n",
        "  title = title.strip()\n",
        "\n",
        "  print(title)\n",
        "  print(price)\n",
        "  # Create a Timestamp for your output to track when data was collected\n",
        "\n",
        "\n",
        "  today = datetime.date.today()\n",
        "\n",
        "  print(today)\n",
        "  # Create CSV and write headers and data into the file\n",
        "\n",
        "\n",
        "  header = ['Title', 'Price', 'Date']\n",
        "  data = [title, price, today]\n",
        "\n",
        "  with open('AmazonWebScraperDataset.csv', 'w', newline='', encoding='UTF8') as f:\n",
        "      writer = csv.writer(f)\n",
        "      writer.writerow(header)\n",
        "      writer.writerow(data)\n",
        "\n",
        "\n",
        "  df = pd.read_csv('AmazonWebScraperDataset.csv')\n",
        "\n",
        "  print(df)\n",
        "  #Now we are appending data to the csv\n",
        "\n",
        "  with open('AmazonWebScraperDataset.csv', 'a+', newline='', encoding='UTF8') as f:\n",
        "      writer = csv.writer(f)\n",
        "      writer.writerow(data)\n",
        "\n",
        "# Call the function to start the process\n",
        "check_price()\n",
        "\n",
        "today = datetime.date.today()\n",
        "\n",
        "print(today)\n"
      ]
    },
    {
      "cell_type": "code",
      "source": [
        "# Runs check_price after a set time and inputs data into your CSV\n",
        "\n",
        "while(True):\n",
        "    check_price()\n",
        "    time.sleep(86400)"
      ],
      "metadata": {
        "id": "FqO42XQ2CjQE"
      },
      "execution_count": null,
      "outputs": []
    },
    {
      "cell_type": "code",
      "source": [
        "import pandas as pd\n",
        "\n",
        "df = pd.read_csv(r'AmazonWebScraperDataset.csv')\n",
        "\n",
        "print(df)"
      ],
      "metadata": {
        "colab": {
          "base_uri": "https://localhost:8080/"
        },
        "id": "Jz1GD53mDTaU",
        "outputId": "0103db45-c972-457a-fb0f-46f98a8fcd48"
      },
      "execution_count": 40,
      "outputs": [
        {
          "output_type": "stream",
          "name": "stdout",
          "text": [
            "                                               Title  Price        Date\n",
            "0  Funny Got Data MIS Data Systems Business Analy...  16.99  2024-09-18\n",
            "1  Funny Got Data MIS Data Systems Business Analy...  16.99  2024-09-18\n"
          ]
        }
      ]
    },
    {
      "cell_type": "code",
      "source": [
        "# If uou want to try sending yourself an email when a price hits below a certain level you can try it\n",
        "\n",
        "def send_mail():\n",
        "    server = smtplib.SMTP_SSL('smtp.gmail.com',465)\n",
        "    server.ehlo()\n",
        "    #server.starttls()\n",
        "    server.ehlo()\n",
        "    server.login('jmchannaraya@gmail.com','xxxxxxxxxxxxxx')\n",
        "\n",
        "    subject = \"The Shirt you want is below $15! Now is your chance to buy!\"\n",
        "    body = \"Channaraya, This is the moment we have been waiting for. Now is your chance to pick up the shirt of your dreams. Don't mess it up! Link here: https://www.amazon.com/Funny-Data-Systems-Business-Analyst/dp/B07FNW9FGJ/ref=sr_1_3?dchild=1&keywords=data%2Banalyst%2Btshirt&qid=1626655184&sr=8-3&customId=B0752XJYNL&th=1%27%20headers%20=%20{%22User-Agent%22:%20%22Mozilla/5.0%20(Macintosh&%20Intel%20Mac%20OS%20X%2010_15_7)%20AppleWebKit/537.36%20(KHTML,%20like%20Gecko)%20Chrome/127.0.0.0%20Safari/537.36%22,%20%22Accept-Encoding%22:%22gzip,%20deflate%22,%20%22Accept%22:%22text/html,application/xhtml+xml,application/xml&q=0.9,/&q=0.8%22,%20%22DNT%22:%221%22,%22Connection%22:%22close%22,%20%22Upgrade-Insecure-Requests%22:%221%22\"\n",
        "\n",
        "    msg = f\"Subject: {subject}\\n\\n{body}\"\n",
        "\n",
        "    server.sendmail(\n",
        "        'jmchannaraya@gmail.com',\n",
        "        msg\n",
        "\n",
        "    )"
      ],
      "metadata": {
        "id": "f43WLZKRDU3N"
      },
      "execution_count": 41,
      "outputs": []
    },
    {
      "cell_type": "code",
      "source": [],
      "metadata": {
        "id": "WKyi4CcvDthQ"
      },
      "execution_count": null,
      "outputs": []
    }
  ],
  "metadata": {
    "colab": {
      "provenance": [],
      "authorship_tag": "ABX9TyNOjKcjLAFGC/euinc/4AXR",
      "include_colab_link": true
    },
    "kernelspec": {
      "display_name": "Python 3",
      "name": "python3"
    },
    "language_info": {
      "name": "python"
    }
  },
  "nbformat": 4,
  "nbformat_minor": 0
}